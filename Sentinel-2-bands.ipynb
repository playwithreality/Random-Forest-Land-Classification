{
 "cells": [
  {
   "cell_type": "code",
   "execution_count": 1,
   "metadata": {
    "collapsed": true
   },
   "outputs": [],
   "source": [
    "import csv\n",
    "from sklearn.linear_model import enet_path\n",
    "from sklearn.model_selection import train_test_split\n",
    "from sklearn import ensemble\n",
    "from sklearn.metrics import accuracy_score, confusion_matrix\n",
    "import numpy as np\n",
    "import matplotlib.pyplot as plot"
   ]
  },
  {
   "cell_type": "code",
   "execution_count": 2,
   "metadata": {},
   "outputs": [
    {
     "name": "stdout",
     "output_type": "stream",
     "text": [
      "['B1_M_M_M_M:float', 'B2_M_M_M_M:float', 'B3_M_M_M_M:float', 'B4_M_M_M_M:float', 'B5_M_M_M_M:float', 'B6_M_M_M_M:float', 'B7_M_M_M_M:float', 'B8_M_M_M_M:float', 'B8A_M_M_M_M:float', 'B9_M_M_M_M:float', 'B10_M_M_M_M:float', 'B11_M_M_M_M:float', 'B12_M_M_M_M:float', 'corine-band_1_S_M_M:byte'] \n",
      "\n",
      "[['0.163', '0.1544', '0.1593', '0.1718', '0.1761', '0.2099', '0.2254', '0.2188', '0.233', '0.0844', '0.0012', '0.2098', '0.159'], ['0.163', '0.1544', '0.1593', '0.1718', '0.1761', '0.2099', '0.2254', '0.2188', '0.233', '0.0844', '0.0012', '0.2098', '0.159'], ['0.163', '0.1523', '0.1586', '0.1697', '0.1754', '0.2032', '0.2194', '0.2157', '0.2268', '0.0844', '0.0012', '0.2045', '0.1573'], ['0.163', '0.1523', '0.1586', '0.1697', '0.1754', '0.2032', '0.2194', '0.2157', '0.2268', '0.0844', '0.0012', '0.2045', '0.1573'], ['0.1616', '0.1532', '0.1575', '0.1695', '0.174', '0.2023', '0.2164', '0.2137', '0.2228', '0.0825', '0.0011', '0.2049', '0.1586']] \n",
      "\n",
      "[12.0, 12.0, 12.0, 12.0, 12.0, 12.0, 12.0, 12.0, 12.0, 12.0]\n"
     ]
    }
   ],
   "source": [
    "labels = []\n",
    "xData = []\n",
    "names = []\n",
    "\n",
    "lineCount = 0\n",
    "with open(\"s2bands.csv\", newline='') as csvfile:\n",
    "    data = csv.reader(csvfile, delimiter='\\t')\n",
    "    for line in data:\n",
    "        if lineCount == 0:\n",
    "            lineCount += 1\n",
    "        elif lineCount == 1:\n",
    "            lineCount +=1\n",
    "            names = line[1:]\n",
    "        else:\n",
    "            labels.append(float(line[14]))\n",
    "            line.pop(14)\n",
    "            xData.append(line[1:])\n",
    "\n",
    "print(names, \"\\n\")\n",
    "print(xData[0:5], \"\\n\")\n",
    "print(labels[0:10])"
   ]
  },
  {
   "cell_type": "code",
   "execution_count": 3,
   "metadata": {},
   "outputs": [
    {
     "name": "stdout",
     "output_type": "stream",
     "text": [
      "rowCount: 34485262 columnCount: 13\n",
      "34485262\n",
      "Label set:\n",
      "{1, 2, 3, 4, 5}\n"
     ]
    }
   ],
   "source": [
    "rowCount = len(xData)\n",
    "columnCount = len(xData[0])\n",
    "print(\"rowCount:\", rowCount, \"columnCount:\", columnCount)\n",
    "print(len(labels))\n",
    "for i in range(len(labels)):\n",
    "    if 1 <= labels[i] <= 11:\n",
    "        labels[i] = 1\n",
    "    elif 12 <= labels[i] <= 22:\n",
    "        labels[i] = 2\n",
    "    elif 23 <= labels[i] <= 34:\n",
    "        labels[i] = 3\n",
    "    elif 35 <= labels[i] <= 39:\n",
    "        labels[i] = 4\n",
    "    else:\n",
    "        labels[i] = 5\n",
    "labelset = set(labels)\n",
    "print(\"Label set:\")\n",
    "print(labelset)"
   ]
  },
  {
   "cell_type": "code",
   "execution_count": null,
   "metadata": {
    "collapsed": true
   },
   "outputs": [],
   "source": [
    "x_train, x_test, y_train, y_test = train_test_split(xData, labels, test_size=0.3)\n",
    "\n",
    "misClassError = []\n",
    "for iTrees in [20]:\n",
    "    #iTrees += 1\n",
    "    print(\"iTrees:\", iTrees)\n",
    "    rsModel = ensemble.RandomForestClassifier(n_estimators=iTrees, random_state=0)\n",
    "    rsModel.fit(x_train, y_train)\n",
    "    result = rsModel.predict(x_test)\n",
    "    correct = accuracy_score(y_test, result)\n",
    "    misClassError.append(1.0 - correct)\n",
    "    print(\"Cor, Misclassification Error\")\n",
    "    print(correct, misClassError[-1])\n",
    "\n",
    "    pList = result.tolist()\n",
    "    confusionMat = confusion_matrix(y_test, pList)\n",
    "    print(\"\")\n",
    "    print(\"Confusion Matrix\")\n",
    "    print(confusionMat)\n",
    "    print(\"\")"
   ]
  },
  {
   "cell_type": "code",
   "execution_count": null,
   "metadata": {
    "collapsed": true
   },
   "outputs": [],
   "source": [
    "featureImportance = rsModel.feature_importances_\n",
    "featureImportance = featureImportance / featureImportance.max()\n",
    "idxSorted = np.argsort(featureImportance)\n",
    "print(idxSorted)\n",
    "print(names)\n",
    "print(len(names))\n",
    "names = ['B1', 'B2', 'B3', 'B4', 'B5', 'B6', 'B7', 'B8', 'B8A', 'B9', 'B10', 'B11', 'B12', 's1-red','s1-green','s1-blue', 'band-4']\n",
    "print(len(names))\n",
    "print(names)\n",
    "names2 = []\n",
    "for i in idxSorted:\n",
    "    names2.append(names[i])\n",
    "print(names2)\n",
    "barPos = np.arange(idxSorted.shape[0]) + .5\n",
    "plot.barh(barPos, featureImportance[idxSorted], align='center')\n",
    "plot.yticks(barPos, names2)\n",
    "plot.xlabel('Variable Importance')\n",
    "plot.show()"
   ]
  }
 ],
 "metadata": {
  "kernelspec": {
   "display_name": "Python 3",
   "language": "python",
   "name": "python3"
  },
  "language_info": {
   "codemirror_mode": {
    "name": "ipython",
    "version": 3
   },
   "file_extension": ".py",
   "mimetype": "text/x-python",
   "name": "python",
   "nbconvert_exporter": "python",
   "pygments_lexer": "ipython3",
   "version": "3.6.3"
  }
 },
 "nbformat": 4,
 "nbformat_minor": 2
}
