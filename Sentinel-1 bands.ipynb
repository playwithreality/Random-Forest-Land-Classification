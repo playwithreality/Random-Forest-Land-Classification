{
 "cells": [
  {
   "cell_type": "code",
   "execution_count": 1,
   "metadata": {
    "collapsed": true
   },
   "outputs": [],
   "source": [
    "import csv\n",
    "from sklearn.linear_model import enet_path\n",
    "from sklearn.model_selection import train_test_split\n",
    "from sklearn import ensemble\n",
    "from sklearn.metrics import accuracy_score, confusion_matrix\n",
    "import numpy as np\n",
    "import matplotlib.pyplot as plot"
   ]
  },
  {
   "cell_type": "code",
   "execution_count": 4,
   "metadata": {},
   "outputs": [
    {
     "name": "stdout",
     "output_type": "stream",
     "text": [
      "['s1-band_1_S_M_M_M:byte', 's1-band_2_S_M_M_M:byte', 's1-band_3_S_M_M_M:byte', 'corine-band_1_S_M_M:byte', 'Sigma0_VH_S_M:float', 'Sigma0_VV_S_M:float'] \n",
      "\n",
      "[['0.0041300976', '0.038428165'], ['0.0053010504', '0.039246254'], ['0.0063511413', '0.036630318'], ['0.008793158', '0.031356815'], ['0.00862046', '0.031219995']] \n",
      "\n",
      "[12.0, 12.0, 12.0, 12.0, 12.0, 12.0, 12.0, 12.0, 12.0, 12.0]\n"
     ]
    }
   ],
   "source": [
    "labels = []\n",
    "xData = []\n",
    "names = []\n",
    "\n",
    "lineCount = 0\n",
    "with open(\"sentinel-1-data.csv\", newline='') as csvfile:\n",
    "    data = csv.reader(csvfile, delimiter='\\t')\n",
    "    for line in data:\n",
    "        if lineCount == 0:\n",
    "            lineCount += 1\n",
    "        elif lineCount == 1:\n",
    "            lineCount +=1\n",
    "            names = line[1:]\n",
    "        else:\n",
    "            labels.append(float(line[4]))\n",
    "            line.pop(4)\n",
    "            xData.append(line[4:6])\n",
    "\n",
    "print(names, \"\\n\")\n",
    "print(xData[0:5], \"\\n\")\n",
    "print(labels[0:10])"
   ]
  },
  {
   "cell_type": "code",
   "execution_count": 5,
   "metadata": {},
   "outputs": [
    {
     "name": "stdout",
     "output_type": "stream",
     "text": [
      "rowCount: 34485262 columnCount: 2\n",
      "34485262\n",
      "Label set:\n",
      "{1, 2, 3, 4, 5}\n"
     ]
    }
   ],
   "source": [
    "rowCount = len(xData)\n",
    "columnCount = len(xData[0])\n",
    "print(\"rowCount:\", rowCount, \"columnCount:\", columnCount)\n",
    "print(len(labels))\n",
    "for i in range(len(labels)):\n",
    "    if 1 <= labels[i] <= 11:\n",
    "        labels[i] = 1\n",
    "    elif 12 <= labels[i] <= 22:\n",
    "        labels[i] = 2\n",
    "    elif 23 <= labels[i] <= 34:\n",
    "        labels[i] = 3\n",
    "    elif 35 <= labels[i] <= 39:\n",
    "        labels[i] = 4\n",
    "    else:\n",
    "        labels[i] = 5\n",
    "labelset = set(labels)\n",
    "print(\"Label set:\")\n",
    "print(labelset)"
   ]
  },
  {
   "cell_type": "code",
   "execution_count": 6,
   "metadata": {},
   "outputs": [
    {
     "name": "stdout",
     "output_type": "stream",
     "text": [
      "iTrees: 20\n",
      "Cor, Misclassification Error\n",
      "0.765220486935 0.234779513065\n",
      "\n",
      "Confusion Matrix\n",
      "[[   3903   70502  187989     281    1988]\n",
      " [   7514 2263910 1134757    5614   12181]\n",
      " [  11300  702844 5311134    2469   57617]\n",
      " [    344   44917   38155    1146    2015]\n",
      " [    746   38879  108661     157  336556]]\n",
      "\n"
     ]
    }
   ],
   "source": [
    "x_train, x_test, y_train, y_test = train_test_split(xData, labels, test_size=0.3)\n",
    "\n",
    "misClassError = []\n",
    "for iTrees in [20]:\n",
    "    #iTrees += 1\n",
    "    print(\"iTrees:\", iTrees)\n",
    "    rsModel = ensemble.RandomForestClassifier(n_estimators=iTrees, random_state=0)\n",
    "    rsModel.fit(x_train, y_train)\n",
    "    result = rsModel.predict(x_test)\n",
    "    correct = accuracy_score(y_test, result)\n",
    "    misClassError.append(1.0 - correct)\n",
    "    print(\"Cor, Misclassification Error\")\n",
    "    print(correct, misClassError[-1])\n",
    "\n",
    "    pList = result.tolist()\n",
    "    confusionMat = confusion_matrix(y_test, pList)\n",
    "    print(\"\")\n",
    "    print(\"Confusion Matrix\")\n",
    "    print(confusionMat)\n",
    "    print(\"\")"
   ]
  },
  {
   "cell_type": "code",
   "execution_count": 7,
   "metadata": {},
   "outputs": [
    {
     "name": "stdout",
     "output_type": "stream",
     "text": [
      "[0 1]\n",
      "['s1-band_1_S_M_M_M:byte', 's1-band_2_S_M_M_M:byte', 's1-band_3_S_M_M_M:byte', 'corine-band_1_S_M_M:byte', 'Sigma0_VH_S_M:float', 'Sigma0_VV_S_M:float']\n",
      "6\n",
      "17\n",
      "['B1', 'B2', 'B3', 'B4', 'B5', 'B6', 'B7', 'B8', 'B8A', 'B9', 'B10', 'B11', 'B12', 's1-red', 's1-green', 's1-blue', 'band-4']\n",
      "['B1', 'B2']\n"
     ]
    },
    {
     "data": {
      "image/png": "[encoded data removed]",
      "text/plain": [
       "<matplotlib.figure.Figure at 0x13be1d82da0>"
      ]
     },
     "metadata": {},
     "output_type": "display_data"
    }
   ],
   "source": [
    "featureImportance = rsModel.feature_importances_\n",
    "featureImportance = featureImportance / featureImportance.max()\n",
    "idxSorted = np.argsort(featureImportance)\n",
    "print(idxSorted)\n",
    "print(names)\n",
    "print(len(names))\n",
    "names = ['B1', 'B2', 'B3', 'B4', 'B5', 'B6', 'B7', 'B8', 'B8A', 'B9', 'B10', 'B11', 'B12', 's1-red','s1-green','s1-blue', 'band-4']\n",
    "print(len(names))\n",
    "print(names)\n",
    "names2 = []\n",
    "for i in idxSorted:\n",
    "    names2.append(names[i])\n",
    "print(names2)\n",
    "barPos = np.arange(idxSorted.shape[0]) + .5\n",
    "plot.barh(barPos, featureImportance[idxSorted], align='center')\n",
    "plot.yticks(barPos, names2)\n",
    "plot.xlabel('Variable Importance')\n",
    "plot.show()"
   ]
  },
  {
   "cell_type": "code",
   "execution_count": 7,
   "metadata": {},
   "outputs": [
    {
     "name": "stdout",
     "output_type": "stream",
     "text": [
      "[3 3 3 3 2 3 3 3 3 3 3 3 2 2 2 3 2 3 3 3 3 2 3 3 3 3 5 3 2 3 2 3 3 2 3 2 2\n",
      " 2 2 2 2 3 3 2 2 3 2 2 3 3 3 3 2 2 5 3 3 3 3 2 3 2 3 3 2 3 3 2 3 2 2 3 3 2\n",
      " 3 3 3 3 3 3 3 3 2 3 2 2 3 3 3 3 3 3 2 3 3 2 3 3 2 2]\n"
     ]
    }
   ],
   "source": [
    "print(result[0:100])"
   ]
  },
  {
   "cell_type": "code",
   "execution_count": 8,
   "metadata": {},
   "outputs": [
    {
     "ename": "ModuleNotFoundError",
     "evalue": "No module named 'jpeg'",
     "output_type": "error",
     "traceback": [
      "\u001b[1;31m---------------------------------------------------------------------------\u001b[0m",
      "\u001b[1;31mModuleNotFoundError\u001b[0m                       Traceback (most recent call last)",
      "\u001b[1;32m<ipython-input-8-6311eb397660>\u001b[0m in \u001b[0;36m<module>\u001b[1;34m()\u001b[0m\n\u001b[1;32m----> 1\u001b[1;33m \u001b[1;32mimport\u001b[0m \u001b[0mjpeg\u001b[0m\u001b[1;33m\u001b[0m\u001b[0m\n\u001b[0m\u001b[0;32m      2\u001b[0m \u001b[1;33m\u001b[0m\u001b[0m\n",
      "\u001b[1;31mModuleNotFoundError\u001b[0m: No module named 'jpeg'"
     ]
    }
   ],
   "source": [
    "rgblist = []\n",
    "for row in result:\n",
    "    if result == 1:\n",
    "        rgblist.append([255,0,0])\n",
    "    elif result == 2:\n",
    "        rgblist.append([255,255,0])\n",
    "    elif result == 3:\n",
    "        rgblist.append([])"
   ]
  },
  {
   "cell_type": "code",
   "execution_count": null,
   "metadata": {
    "collapsed": true
   },
   "outputs": [],
   "source": []
  }
 ],
 "metadata": {
  "kernelspec": {
   "display_name": "Python 3",
   "language": "python",
   "name": "python3"
  },
  "language_info": {
   "codemirror_mode": {
    "name": "ipython",
    "version": 3
   },
   "file_extension": ".py",
   "mimetype": "text/x-python",
   "name": "python",
   "nbconvert_exporter": "python",
   "pygments_lexer": "ipython3",
   "version": "3.6.3"
  }
 },
 "nbformat": 4,
 "nbformat_minor": 2
}
